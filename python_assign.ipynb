{
  "nbformat": 4,
  "nbformat_minor": 0,
  "metadata": {
    "colab": {
      "provenance": []
    },
    "kernelspec": {
      "name": "python3",
      "display_name": "Python 3"
    },
    "language_info": {
      "name": "python"
    }
  },
  "cells": [
    {
      "cell_type": "code",
      "source": [
        "#Qn 1\n",
        "x = input(\"enter numbers:\").split(\" \")\n",
        "x = list(map(int,x))\n",
        "def range(x):\n",
        "  return max(x),min(x)\n",
        "result = max(x),min(x)\n",
        "print(\"maximum:\",\"minimum:\",result)"
      ],
      "metadata": {
        "colab": {
          "base_uri": "https://localhost:8080/"
        },
        "id": "MGQor1kuRD9z",
        "outputId": "ed93a73f-e520-4458-c516-10b153ca77be"
      },
      "execution_count": 75,
      "outputs": [
        {
          "output_type": "stream",
          "name": "stdout",
          "text": [
            "enter numbers:5 4 6 1 3\n",
            "maximum: minimum: (6, 1)\n"
          ]
        }
      ]
    },
    {
      "cell_type": "code",
      "source": [
        "# Qn 2\n",
        "x = input(\"enter numbes:\").split(\" \")\n",
        "x = list(map(int,x))\n",
        "def range(x):\n",
        "  return mean(x)\n",
        "result = sum(x)/len(x)\n",
        "print(\"mean:\",result)"
      ],
      "metadata": {
        "colab": {
          "base_uri": "https://localhost:8080/"
        },
        "id": "R9-Ii_bPTwc5",
        "outputId": "912263b1-bf3a-4707-8140-fd37a39e754c"
      },
      "execution_count": 76,
      "outputs": [
        {
          "output_type": "stream",
          "name": "stdout",
          "text": [
            "enter numbes:2 5 4 6 8\n",
            "mean: 5.0\n"
          ]
        }
      ]
    },
    {
      "cell_type": "code",
      "source": [
        "# Qn 3\n",
        "x = input(\"enter numbers:\").split(\" \")\n",
        "x = list(map(int, x))\n",
        "y= sorted(x)\n",
        "n=int(len(y))\n",
        "print(y)\n",
        "\n",
        "a=y[int(n/2)]\n",
        "b=y[int((n/2)-1)]\n",
        "c=y[int((n-1)/2)]\n",
        "d=a+b\n",
        "e=d/2\n",
        "\n",
        "def median(b):\n",
        "  if n%2==0:\n",
        "    print(e)\n",
        "  else:\n",
        "    print(c)\n",
        "\n",
        "\n",
        "\n"
      ],
      "metadata": {
        "colab": {
          "base_uri": "https://localhost:8080/"
        },
        "id": "CQe-MbE6W2YY",
        "outputId": "83fa1223-6032-4ba4-fc66-f52a237d48cb"
      },
      "execution_count": 77,
      "outputs": [
        {
          "output_type": "stream",
          "name": "stdout",
          "text": [
            "enter numbers:2 8 6 4 1 3\n",
            "[1, 2, 3, 4, 6, 8]\n"
          ]
        }
      ]
    },
    {
      "cell_type": "code",
      "source": [
        "median(x)"
      ],
      "metadata": {
        "colab": {
          "base_uri": "https://localhost:8080/"
        },
        "id": "1RL-v7BCfi_0",
        "outputId": "21bb2cf2-88b7-4b4f-df83-15b5b2532557"
      },
      "execution_count": 78,
      "outputs": [
        {
          "output_type": "stream",
          "name": "stdout",
          "text": [
            "3.5\n"
          ]
        }
      ]
    },
    {
      "cell_type": "code",
      "source": [
        "#Qn 4\n",
        "nums = [5,3,6,5,9]\n",
        "most = 0\n",
        "freq = None\n",
        "for num in nums:\n",
        "  count = 0\n",
        "  for n in nums:\n",
        "    if n==num:\n",
        "      count = count + 1\n",
        "    if count>most:\n",
        "      most = count\n",
        "      freq = num\n",
        "    if most > 1:\n",
        "      print(\"mode is:\",freq)\n",
        "    else:\n",
        "      print(\"no mode found\")\n"
      ],
      "metadata": {
        "colab": {
          "base_uri": "https://localhost:8080/"
        },
        "id": "ENu1Ou0-gCfM",
        "outputId": "79700d18-1f15-436f-94b4-9dd9569ab64c"
      },
      "execution_count": 171,
      "outputs": [
        {
          "output_type": "stream",
          "name": "stdout",
          "text": [
            "no mode found\n",
            "no mode found\n",
            "no mode found\n",
            "mode is: 5\n",
            "mode is: 5\n",
            "mode is: 5\n",
            "mode is: 5\n",
            "mode is: 5\n",
            "mode is: 5\n",
            "mode is: 5\n",
            "mode is: 5\n",
            "mode is: 5\n",
            "mode is: 5\n",
            "mode is: 5\n",
            "mode is: 5\n",
            "mode is: 5\n",
            "mode is: 5\n",
            "mode is: 5\n",
            "mode is: 5\n",
            "mode is: 5\n",
            "mode is: 5\n",
            "mode is: 5\n",
            "mode is: 5\n",
            "mode is: 5\n",
            "mode is: 5\n"
          ]
        }
      ]
    },
    {
      "cell_type": "code",
      "source": [
        "#Qn 5\n",
        "x = input(\"enter numbers:\").split(\" \")\n",
        "x = list(map(int, x))\n",
        "y = sorted(x)\n",
        "def percentile(y,p):\n",
        "  percent = ((p/100)*(len(y)+1))\n",
        "  percent_int = int(percent)\n",
        "  c= percent-percent_int\n",
        "\n",
        "  if c==0:\n",
        "      percentil = y[percent_int-1]\n",
        "  else:\n",
        "      percentil = (y[percent_int-1]+(y[percent_int]-y[percent_int-1])*c)\n",
        "\n",
        "  return(percentil)\n",
        "\n",
        "percentile(y,90)\n",
        "\n",
        "\n",
        "\n",
        "\n",
        "\n"
      ],
      "metadata": {
        "colab": {
          "base_uri": "https://localhost:8080/"
        },
        "id": "C_wbnQV7yEQ_",
        "outputId": "b9db147f-953c-4133-d6b5-db2960ad805e"
      },
      "execution_count": 145,
      "outputs": [
        {
          "name": "stdout",
          "output_type": "stream",
          "text": [
            "enter numbers:1 2 3 4 5 6 7 8 9 10\n"
          ]
        },
        {
          "output_type": "execute_result",
          "data": {
            "text/plain": [
              "9.9"
            ]
          },
          "metadata": {},
          "execution_count": 145
        }
      ]
    },
    {
      "cell_type": "code",
      "source": [
        "#Qn 6\n",
        "x = input(\"enter numbers:\").split(\" \")\n",
        "x = list(map(int, x))\n",
        "y = sorted(x)\n",
        "def percentile(y,q1):\n",
        "  percent = ((p/100)*(len(y)+1))\n",
        "  percent_int = int(percent)\n",
        "  c= percent-percent_int\n",
        "\n",
        "  if c==0:\n",
        "      percentil = y[percent_int-1]\n",
        "  else:\n",
        "      percentil = (y[percent_int-1]+(y[percent_int]-y[percent_int-1])*c)\n",
        "\n",
        "  return(percentil)\n",
        "\n",
        "percentile(y,25)\n",
        "percentile(y,75)\n",
        "\n",
        "\n",
        "\n",
        "\n"
      ],
      "metadata": {
        "colab": {
          "base_uri": "https://localhost:8080/"
        },
        "id": "O_cLgHtI3TV_",
        "outputId": "06ed4e49-3be0-477b-ad06-f9cd793f2db7"
      },
      "execution_count": 161,
      "outputs": [
        {
          "name": "stdout",
          "output_type": "stream",
          "text": [
            "enter numbers:1 2 3 4 5 6 7 8 9 10\n"
          ]
        },
        {
          "output_type": "execute_result",
          "data": {
            "text/plain": [
              "5.5"
            ]
          },
          "metadata": {},
          "execution_count": 161
        }
      ]
    },
    {
      "cell_type": "code",
      "source": [
        "# Qn 8\n",
        "x = input(\"enter numbrers:\").split(\" \")\n",
        "x = list(map(int,x))\n",
        "a = sum(x)/len(x)\n",
        "val = []\n",
        "for i in x:\n",
        "  val.append((i-a)*(i-a))\n",
        "\n",
        "print(val)\n",
        "print(len(val))\n",
        "b = sum(val)\n",
        "print(b)\n",
        "var=(b/len(val))\n",
        "print(var**(1/2))"
      ],
      "metadata": {
        "colab": {
          "base_uri": "https://localhost:8080/"
        },
        "id": "qJ5vYmTf6b-x",
        "outputId": "0b018b7d-dccd-4c98-c66f-a0f9d987c6b9"
      },
      "execution_count": 163,
      "outputs": [
        {
          "output_type": "stream",
          "name": "stdout",
          "text": [
            "enter numbrers:5 5 5 5\n",
            "[0.0, 0.0, 0.0, 0.0]\n",
            "4\n",
            "0.0\n",
            "0.0\n"
          ]
        }
      ]
    },
    {
      "cell_type": "code",
      "source": [
        "# Qn 9\n",
        "x = input(\"enter numbrers:\").split(\" \")\n",
        "x = list(map(int,x))\n",
        "a = sum(x)/len(x)\n",
        "val = []\n",
        "z = []\n",
        "for i in x:\n",
        "  val.append((i-a)*(i-a))\n",
        "\n",
        "\n",
        "b = sum(val)\n",
        "print(b)\n",
        "var=(b/len(val))\n",
        "standerd=var**(1/2)\n",
        "print(val)\n"
      ],
      "metadata": {
        "colab": {
          "base_uri": "https://localhost:8080/"
        },
        "id": "g8YXr8yf7gJJ",
        "outputId": "a07263d2-649a-43c4-d65a-60eae824721a"
      },
      "execution_count": 164,
      "outputs": [
        {
          "output_type": "stream",
          "name": "stdout",
          "text": [
            "enter numbrers:2 2 2 -2 -2 -2\n",
            "24.0\n",
            "[4.0, 4.0, 4.0, 4.0, 4.0, 4.0]\n"
          ]
        }
      ]
    },
    {
      "cell_type": "code",
      "source": [
        "# Qn 10\n",
        "x1 = int(input(\"enter numbers:\"))\n",
        "y1 = int(input(\"enter the numbers:\"))\n",
        "x = sum(x1)\n",
        "y = sum(y1)\n",
        "mean1= x/len(x1)\n",
        "mean2= y/len(y1)\n",
        "x2 = x1-x\n",
        "y2 = y1-y\n",
        "a = sum(x1-mean1)\n",
        "b = sum(y1-mean2)"
      ],
      "metadata": {
        "colab": {
          "base_uri": "https://localhost:8080/",
          "height": 245
        },
        "id": "cIBLMIr88ZUS",
        "outputId": "f3f3aaf6-666c-4637-8057-c33c2ba073d1"
      },
      "execution_count": 168,
      "outputs": [
        {
          "name": "stdout",
          "output_type": "stream",
          "text": [
            "enter numbers:2583\n",
            "enter the numbers:3546\n"
          ]
        },
        {
          "output_type": "error",
          "ename": "TypeError",
          "evalue": "'int' object is not iterable",
          "traceback": [
            "\u001b[0;31m---------------------------------------------------------------------------\u001b[0m",
            "\u001b[0;31mTypeError\u001b[0m                                 Traceback (most recent call last)",
            "\u001b[0;32m/tmp/ipython-input-168-1995376533.py\u001b[0m in \u001b[0;36m<cell line: 0>\u001b[0;34m()\u001b[0m\n\u001b[1;32m      2\u001b[0m \u001b[0mx1\u001b[0m \u001b[0;34m=\u001b[0m \u001b[0mint\u001b[0m\u001b[0;34m(\u001b[0m\u001b[0minput\u001b[0m\u001b[0;34m(\u001b[0m\u001b[0;34m\"enter numbers:\"\u001b[0m\u001b[0;34m)\u001b[0m\u001b[0;34m)\u001b[0m\u001b[0;34m\u001b[0m\u001b[0;34m\u001b[0m\u001b[0m\n\u001b[1;32m      3\u001b[0m \u001b[0my1\u001b[0m \u001b[0;34m=\u001b[0m \u001b[0mint\u001b[0m\u001b[0;34m(\u001b[0m\u001b[0minput\u001b[0m\u001b[0;34m(\u001b[0m\u001b[0;34m\"enter the numbers:\"\u001b[0m\u001b[0;34m)\u001b[0m\u001b[0;34m)\u001b[0m\u001b[0;34m\u001b[0m\u001b[0;34m\u001b[0m\u001b[0m\n\u001b[0;32m----> 4\u001b[0;31m \u001b[0mx\u001b[0m \u001b[0;34m=\u001b[0m \u001b[0msum\u001b[0m\u001b[0;34m(\u001b[0m\u001b[0mx1\u001b[0m\u001b[0;34m)\u001b[0m\u001b[0;34m\u001b[0m\u001b[0;34m\u001b[0m\u001b[0m\n\u001b[0m\u001b[1;32m      5\u001b[0m \u001b[0my\u001b[0m \u001b[0;34m=\u001b[0m \u001b[0msum\u001b[0m\u001b[0;34m(\u001b[0m\u001b[0my1\u001b[0m\u001b[0;34m)\u001b[0m\u001b[0;34m\u001b[0m\u001b[0;34m\u001b[0m\u001b[0m\n\u001b[1;32m      6\u001b[0m \u001b[0mmean1\u001b[0m\u001b[0;34m=\u001b[0m \u001b[0mx\u001b[0m\u001b[0;34m/\u001b[0m\u001b[0mlen\u001b[0m\u001b[0;34m(\u001b[0m\u001b[0mx1\u001b[0m\u001b[0;34m)\u001b[0m\u001b[0;34m\u001b[0m\u001b[0;34m\u001b[0m\u001b[0m\n",
            "\u001b[0;31mTypeError\u001b[0m: 'int' object is not iterable"
          ]
        }
      ]
    }
  ]
}